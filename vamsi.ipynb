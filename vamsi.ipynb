{
 "cells": [
  {
   "cell_type": "code",
   "execution_count": 62,
   "id": "0b686e17-3332-4ed7-a6aa-a038411943e7",
   "metadata": {},
   "outputs": [],
   "source": [
    "import playsound as ps\n",
    "import time\n",
    "ps.playsound('C:\\\\Users\\\\91970\\\\Desktop\\\\audio\\Recording1.mp3')\n",
    "time.sleep(0.1)\n"
   ]
  },
  {
   "cell_type": "code",
   "execution_count": 63,
   "id": "83a38292-fcbf-46ba-bdf1-a723d94d526f",
   "metadata": {},
   "outputs": [],
   "source": [
    "import playsound as ps\n",
    "import time\n",
    "ps.playsound(r'C:\\Users\\91970\\Desktop\\audio\\Recording2.mp3')\n",
    "time.sleep(0.1)\n"
   ]
  },
  {
   "cell_type": "code",
   "execution_count": 35,
   "id": "bbeb4af1-9cc0-4994-93ae-3a006c28960a",
   "metadata": {},
   "outputs": [],
   "source": [
    "import playsound as ps\n",
    "import time\n",
    "ps.playsound(r'C:\\Users\\91970\\Desktop\\audio\\Recording3.mp3')\n",
    "time.sleep(0.1)\n"
   ]
  }
 ],
 "metadata": {
  "kernelspec": {
   "display_name": "Python 3 (ipykernel)",
   "language": "python",
   "name": "python3"
  },
  "language_info": {
   "codemirror_mode": {
    "name": "ipython",
    "version": 3
   },
   "file_extension": ".py",
   "mimetype": "text/x-python",
   "name": "python",
   "nbconvert_exporter": "python",
   "pygments_lexer": "ipython3",
   "version": "3.11.0"
  }
 },
 "nbformat": 4,
 "nbformat_minor": 5
}
